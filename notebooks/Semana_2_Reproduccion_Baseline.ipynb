{
 "cells": [
  {
   "cell_type": "markdown",
   "id": "b7eb4906",
   "metadata": {},
   "source": [
    "# Semana 2: Reproducción del baseline"
   ]
  },
  {
   "cell_type": "markdown",
   "id": "3f7d68e9",
   "metadata": {},
   "source": [
    "## 0.5 Preprocesar los datos\n",
    "\n"
   ]
  },
  {
   "cell_type": "code",
   "execution_count": 1,
   "id": "e4ebd058",
   "metadata": {},
   "outputs": [
    {
     "name": "stdout",
     "output_type": "stream",
     "text": [
      "Datos preprocesados: (60, 7)\n"
     ]
    },
    {
     "data": {
      "text/html": [
       "<div>\n",
       "<style scoped>\n",
       "    .dataframe tbody tr th:only-of-type {\n",
       "        vertical-align: middle;\n",
       "    }\n",
       "\n",
       "    .dataframe tbody tr th {\n",
       "        vertical-align: top;\n",
       "    }\n",
       "\n",
       "    .dataframe thead th {\n",
       "        text-align: right;\n",
       "    }\n",
       "</style>\n",
       "<table border=\"1\" class=\"dataframe\">\n",
       "  <thead>\n",
       "    <tr style=\"text-align: right;\">\n",
       "      <th></th>\n",
       "      <th>media_mv</th>\n",
       "      <th>mstd_mV</th>\n",
       "      <th>skewness</th>\n",
       "      <th>kurtosis</th>\n",
       "      <th>rr_mean_s</th>\n",
       "      <th>rr_std_s</th>\n",
       "      <th>label</th>\n",
       "    </tr>\n",
       "  </thead>\n",
       "  <tbody>\n",
       "    <tr>\n",
       "      <th>0</th>\n",
       "      <td>0.190851</td>\n",
       "      <td>-0.194293</td>\n",
       "      <td>0.272044</td>\n",
       "      <td>-0.391961</td>\n",
       "      <td>0.119495</td>\n",
       "      <td>-0.990627</td>\n",
       "      <td>Normal</td>\n",
       "    </tr>\n",
       "    <tr>\n",
       "      <th>1</th>\n",
       "      <td>0.887660</td>\n",
       "      <td>-0.563532</td>\n",
       "      <td>1.405858</td>\n",
       "      <td>1.610971</td>\n",
       "      <td>0.926851</td>\n",
       "      <td>0.985682</td>\n",
       "      <td>Normal</td>\n",
       "    </tr>\n",
       "    <tr>\n",
       "      <th>2</th>\n",
       "      <td>-0.123761</td>\n",
       "      <td>-0.854334</td>\n",
       "      <td>-1.549949</td>\n",
       "      <td>-0.187959</td>\n",
       "      <td>-0.017798</td>\n",
       "      <td>-0.960585</td>\n",
       "      <td>Normal</td>\n",
       "    </tr>\n",
       "    <tr>\n",
       "      <th>3</th>\n",
       "      <td>2.550252</td>\n",
       "      <td>0.047609</td>\n",
       "      <td>1.244108</td>\n",
       "      <td>0.108750</td>\n",
       "      <td>1.627454</td>\n",
       "      <td>0.303252</td>\n",
       "      <td>AFib</td>\n",
       "    </tr>\n",
       "    <tr>\n",
       "      <th>4</th>\n",
       "      <td>0.095630</td>\n",
       "      <td>0.049088</td>\n",
       "      <td>0.386649</td>\n",
       "      <td>-0.444615</td>\n",
       "      <td>-1.225096</td>\n",
       "      <td>0.917802</td>\n",
       "      <td>AFib</td>\n",
       "    </tr>\n",
       "  </tbody>\n",
       "</table>\n",
       "</div>"
      ],
      "text/plain": [
       "   media_mv   mstd_mV  skewness  kurtosis  rr_mean_s  rr_std_s   label\n",
       "0  0.190851 -0.194293  0.272044 -0.391961   0.119495 -0.990627  Normal\n",
       "1  0.887660 -0.563532  1.405858  1.610971   0.926851  0.985682  Normal\n",
       "2 -0.123761 -0.854334 -1.549949 -0.187959  -0.017798 -0.960585  Normal\n",
       "3  2.550252  0.047609  1.244108  0.108750   1.627454  0.303252    AFib\n",
       "4  0.095630  0.049088  0.386649 -0.444615  -1.225096  0.917802    AFib"
      ]
     },
     "metadata": {},
     "output_type": "display_data"
    }
   ],
   "source": [
    "# Celda 0.5: Preprocesar los datos\n",
    "\n",
    "from pathlib import Path\n",
    "import pandas as pd\n",
    "from sklearn.preprocessing import StandardScaler\n",
    "\n",
    "# 1) Cargar características\n",
    "csv_path = Path(\"../data/ecg_features.csv\")\n",
    "df = pd.read_csv(csv_path)\n",
    "\n",
    "# 2) Eliminar outliers: recortar cada feature al percentil 1 y 99\n",
    "cols = ['media_mv','mstd_mV','skewness','kurtosis','rr_mean_s','rr_std_s']\n",
    "for col in cols:\n",
    "    p1, p99 = df[col].quantile([0.01, 0.99])\n",
    "    df[col] = df[col].clip(p1, p99)\n",
    "\n",
    "# 3) Separar X e y\n",
    "X = df[cols]\n",
    "y = df['label']\n",
    "\n",
    "# 4) Estandarizar con media 0 y varianza 1\n",
    "scaler = StandardScaler()\n",
    "X_scaled = scaler.fit_transform(X)\n",
    "\n",
    "# 5) DataFrame procesado\n",
    "df_pre = pd.DataFrame(X_scaled, columns=cols)\n",
    "df_pre['label'] = y.values\n",
    "\n",
    "print(\"Datos preprocesados:\", df_pre.shape)\n",
    "display(df_pre.head())"
   ]
  },
  {
   "cell_type": "markdown",
   "id": "85633083",
   "metadata": {},
   "source": [
    "## 1. Entrenar un modelo base\n",
    "\n"
   ]
  },
  {
   "cell_type": "code",
   "execution_count": 19,
   "id": "12864313",
   "metadata": {},
   "outputs": [
    {
     "name": "stdout",
     "output_type": "stream",
     "text": [
      "Entrenado SVM con 42 muestras preprocesadas.\n"
     ]
    }
   ],
   "source": [
    "\n",
    "# Celda 1: Entrenar un modelo base (SVM) con los datos ya preprocesados\n",
    "\n",
    "from sklearn.model_selection import train_test_split\n",
    "from sklearn.svm import SVC\n",
    "\n",
    "# 1) Cargar X e y desde df_pre (preprocesado en la celda 0.5)\n",
    "X = df_pre[cols]\n",
    "y = df_pre['label']\n",
    "\n",
    "# 2) División train/test\n",
    "X_train, X_test, y_train, y_test = train_test_split(\n",
    "    X, y, test_size=0.3, stratify=y, random_state=42\n",
    ")\n",
    "\n",
    "# 3) Entrenamiento\n",
    "model = SVC(kernel='rbf', probability=True, random_state=42)\n",
    "model.fit(X_train, y_train)\n",
    "\n",
    "print(f\"Entrenado SVM con {X_train.shape[0]} muestras preprocesadas.\")"
   ]
  },
  {
   "cell_type": "markdown",
   "id": "0b096b20",
   "metadata": {},
   "source": [
    "## 2. Evaluar el desempeño del modelo"
   ]
  },
  {
   "cell_type": "code",
   "execution_count": 20,
   "id": "d34651d4",
   "metadata": {},
   "outputs": [
    {
     "name": "stdout",
     "output_type": "stream",
     "text": [
      "Accuracy:  0.778\n",
      "Precision: 0.727\n",
      "Recall:    0.889\n",
      "F1-score:  0.800\n"
     ]
    },
    {
     "data": {
      "image/png": "[encoded data removed]",
      "text/plain": [
       "<Figure size 640x480 with 2 Axes>"
      ]
     },
     "metadata": {},
     "output_type": "display_data"
    }
   ],
   "source": [
    "# 2. Evaluación del modelo\n",
    "from sklearn.metrics import (\n",
    "    accuracy_score, precision_score, recall_score,\n",
    "    f1_score, ConfusionMatrixDisplay\n",
    ")\n",
    "import matplotlib.pyplot as plt\n",
    "\n",
    "# Predicción\n",
    "y_pred = model.predict(X_test)\n",
    "\n",
    "# Cálculo de métricas (AFib como positiva)\n",
    "acc   = accuracy_score(y_test, y_pred)\n",
    "prec  = precision_score(y_test, y_pred, pos_label='AFib')\n",
    "rec   = recall_score(y_test, y_pred, pos_label='AFib')\n",
    "f1    = f1_score(y_test, y_pred, pos_label='AFib')\n",
    "\n",
    "print(f\"Accuracy:  {acc:.3f}\")\n",
    "print(f\"Precision: {prec:.3f}\")\n",
    "print(f\"Recall:    {rec:.3f}\")\n",
    "print(f\"F1-score:  {f1:.3f}\")\n",
    "\n",
    "# Matriz de confusión\n",
    "disp = ConfusionMatrixDisplay.from_estimator(\n",
    "    model, X_test, y_test, display_labels=model.classes_, cmap=plt.cm.Blues\n",
    ")\n",
    "disp.ax_.set_title(\"Matriz de Confusión\")\n",
    "plt.show()\n"
   ]
  },
  {
   "cell_type": "markdown",
   "id": "ffa15fbf",
   "metadata": {},
   "source": [
    "## 3. Análisis breve\n",
    "\n",
    "- Accuracy: 14/18 ≈ 0.78  \n",
    "- Recall (AFib como positiva): 8/9 ≈ 0.89  \n",
    "- Precision (AFib como positiva): 8/11 ≈ 0.73  \n",
    "- Falsos negativos (AFib → Normal): 1  \n",
    "- Falsos positivos (Normal → AFib): 3  \n"
   ]
  }
 ],
 "metadata": {
  "kernelspec": {
   "display_name": "Python 3",
   "language": "python",
   "name": "python3"
  },
  "language_info": {
   "codemirror_mode": {
    "name": "ipython",
    "version": 3
   },
   "file_extension": ".py",
   "mimetype": "text/x-python",
   "name": "python",
   "nbconvert_exporter": "python",
   "pygments_lexer": "ipython3",
   "version": "3.13.5"
  }
 },
 "nbformat": 4,
 "nbformat_minor": 5
}

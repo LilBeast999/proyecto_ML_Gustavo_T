{
 "cells": [
  {
   "cell_type": "markdown",
   "id": "b7eb4906",
   "metadata": {},
   "source": [
    "# Semana 2: Reproducción del baseline"
   ]
  },
  {
   "cell_type": "markdown",
   "id": "85633083",
   "metadata": {},
   "source": [
    "## 1. Entrenar un modelo base\n",
    "\n"
   ]
  },
  {
   "cell_type": "code",
   "execution_count": 13,
   "id": "12864313",
   "metadata": {},
   "outputs": [
    {
     "name": "stdout",
     "output_type": "stream",
     "text": [
      "Entrenado SVM con 21 muestras de entrenamiento.\n"
     ]
    }
   ],
   "source": [
    "# 1. Entrenar un modelo base (SVM)\n",
    "from pathlib import Path\n",
    "import pandas as pd\n",
    "from sklearn.model_selection import train_test_split\n",
    "from sklearn.svm import SVC\n",
    "\n",
    "# Cargar características\n",
    "csv_path = Path(\"../data/ecg_features.csv\")\n",
    "df = pd.read_csv(csv_path)\n",
    "\n",
    "# Definir X e y\n",
    "features = ['media_mv','mstd_mV','skewness','kurtosis','rr_mean_s','rr_std_s']\n",
    "X = df[features]\n",
    "y = df['label']\n",
    "\n",
    "# División train/test\n",
    "X_train, X_test, y_train, y_test = train_test_split(\n",
    "    X, y, test_size=0.3, stratify=y, random_state=42\n",
    ")\n",
    "\n",
    "# Entrenamiento\n",
    "model = SVC(kernel='rbf', probability=True, random_state=42)\n",
    "model.fit(X_train, y_train)\n",
    "\n",
    "print(f\"Entrenado SVM con {X_train.shape[0]} muestras de entrenamiento.\")"
   ]
  },
  {
   "cell_type": "markdown",
   "id": "0b096b20",
   "metadata": {},
   "source": [
    "## 2. Evaluar el desempeño del modelo"
   ]
  },
  {
   "cell_type": "code",
   "execution_count": null,
   "id": "d34651d4",
   "metadata": {},
   "outputs": [
    {
     "name": "stdout",
     "output_type": "stream",
     "text": [
      "Accuracy:  0.556\n",
      "Precision: 0.600\n",
      "Recall:    0.600\n",
      "F1-score:  0.600\n"
     ]
    },
    {
     "data": {
      "image/png": "[encoded data removed]",
      "text/plain": [
       "<Figure size 640x480 with 2 Axes>"
      ]
     },
     "metadata": {},
     "output_type": "display_data"
    }
   ],
   "source": [
    "# 2. Evaluación del modelo\n",
    "from sklearn.metrics import (\n",
    "    accuracy_score, precision_score, recall_score,\n",
    "    f1_score, ConfusionMatrixDisplay\n",
    ")\n",
    "import matplotlib.pyplot as plt\n",
    "\n",
    "# Predicción\n",
    "y_pred = model.predict(X_test)\n",
    "\n",
    "# Cálculo de métricas (AFib como positiva)\n",
    "acc   = accuracy_score(y_test, y_pred)\n",
    "prec  = precision_score(y_test, y_pred, pos_label='AFib')\n",
    "rec   = recall_score(y_test, y_pred, pos_label='AFib')\n",
    "f1    = f1_score(y_test, y_pred, pos_label='AFib')\n",
    "\n",
    "print(f\"Accuracy:  {acc:.3f}\")\n",
    "print(f\"Precision: {prec:.3f}\")\n",
    "print(f\"Recall:    {rec:.3f}\")\n",
    "print(f\"F1-score:  {f1:.3f}\")\n",
    "\n",
    "# Matriz de confusión\n",
    "disp = ConfusionMatrixDisplay.from_estimator(\n",
    "    model, X_test, y_test, display_labels=model.classes_, cmap=plt.cm.Blues\n",
    ")\n",
    "disp.ax_.set_title(\"Matriz de Confusión\")\n",
    "plt.show()\n"
   ]
  },
  {
   "cell_type": "markdown",
   "id": "ffa15fbf",
   "metadata": {},
   "source": [
    "## 3. Análisis breve\n",
    "\n",
    "- El modelo acierta en unos 6 de cada 10 casos (Accuracy ≈ 0.56), así que aún hay muchos errores.  \n",
    "- De todas las veces que realmente hay AFib, solo detecta 6 de cada 10 (Recall = 0.60), pierde bastante.  \n",
    "- Cuando dice “AFib”, acierta también 6 de cada 10 (Precision = 0.60), hay falsos positivos.  \n"
   ]
  }
 ],
 "metadata": {
  "kernelspec": {
   "display_name": "Python 3",
   "language": "python",
   "name": "python3"
  },
  "language_info": {
   "codemirror_mode": {
    "name": "ipython",
    "version": 3
   },
   "file_extension": ".py",
   "mimetype": "text/x-python",
   "name": "python",
   "nbconvert_exporter": "python",
   "pygments_lexer": "ipython3",
   "version": "3.13.5"
  }
 },
 "nbformat": 4,
 "nbformat_minor": 5
}
